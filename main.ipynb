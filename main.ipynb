{
 "cells": [
  {
   "cell_type": "code",
   "execution_count": 4,
   "metadata": {},
   "outputs": [],
   "source": [
    "from os import link\n",
    "from time import sleep\n",
    "from helium import *\n",
    "from bs4 import BeautifulSoup\n",
    "from selenium import webdriver\n",
    "from selenium.common.exceptions import TimeoutException, WebDriverException, ElementNotVisibleException, NoSuchElementException\n",
    "from selenium.webdriver.common.keys import Keys\n",
    "from selenium.webdriver.common.by import By\n",
    "from selenium.webdriver.support.ui import WebDriverWait\n",
    "import pandas as pd\n"
   ]
  },
  {
   "cell_type": "code",
   "execution_count": 58,
   "metadata": {},
   "outputs": [],
   "source": [
    "import fasttext\n",
    "with open(\"cooking.stackexchange.txt\",'r') as file:\n",
    "    lines = file.readlines()\n",
    "\n",
    "with open(\"test_orig\",'w') as file:\n",
    "    for line in lines[:int(len(lines)/3)]:\n",
    "        file.write(line)\n",
    "with open(\"train_orig\",'w') as file:\n",
    "    for line in lines[int(len(lines)/3):]:\n",
    "        file.write(line)\n"
   ]
  },
  {
   "cell_type": "code",
   "execution_count": 63,
   "metadata": {},
   "outputs": [],
   "source": [
    "model_orig = fasttext.train_supervised('train_orig')"
   ]
  },
  {
   "cell_type": "code",
   "execution_count": 64,
   "metadata": {},
   "outputs": [
    {
     "name": "stdout",
     "output_type": "stream",
     "text": [
      "N\t5133\n",
      "P@1\t0.090\n",
      "R@1\t0.039\n"
     ]
    }
   ],
   "source": [
    "results_orig = model_orig.test(\"./test_orig.txt\")\n",
    "print_results(*results_orig)"
   ]
  },
  {
   "cell_type": "code",
   "execution_count": 66,
   "metadata": {},
   "outputs": [
    {
     "name": "stdout",
     "output_type": "stream",
     "text": [
      "N\t5133\n",
      "P@1\t0.513\n",
      "R@1\t0.224\n"
     ]
    }
   ],
   "source": [
    "model_orig = fasttext.train_supervised('train_orig', lr=0.5, epoch=25, wordNgrams=2, bucket=200000, dim=50, loss='ova')\n",
    "results_orig = model_orig.test(\"./test_orig.txt\")\n",
    "print_results(*results_orig)"
   ]
  },
  {
   "cell_type": "code",
   "execution_count": 4,
   "metadata": {},
   "outputs": [],
   "source": [
    "bs = BeautifulSoup()\n",
    "driver = start_chrome(headless=True)\n",
    "driver.get('https://amazon.com.au')\n",
    "click(TextField(to_right_of='All'))\n",
    "write('RTX 3090')\n",
    "click(Button(to_left_of='Hello, Sign In'))\n",
    "\n",
    "all_links = []\n",
    "\n",
    "links = driver.find_elements_by_xpath(\"//a[@href]\")\n",
    "for l in links:\n",
    "    if 'Graphics' in l.get_attribute('href'):\n",
    "        all_links.append(l.get_attribute('href'))\n",
    "\n",
    "all_reviews = []"
   ]
  },
  {
   "cell_type": "code",
   "execution_count": 29,
   "metadata": {},
   "outputs": [],
   "source": [
    "def scrap_link(link):\n",
    "    driver = start_chrome(headless=True)\n",
    "    driver.get(link)\n",
    "    click('See all reviews')\n",
    "    sleep(3)\n",
    "    reviews = driver.find_elements_by_css_selector('#cm_cr-review_list div[data-hook=\"review\"]')\n",
    "\n",
    "    for i, result in enumerate(all_reviews):\n",
    "        #data['reviews'].append(scrape_single_review(result))\n",
    "        for r in result:\n",
    "            data['reviews'].append(scrape_single_review(r))\n",
    "            all_reviews.append(reviews)\n",
    "            sleep(3)\n",
    "    if(Button('Next page').exists()):\n",
    "        click('Next page')\n",
    "    sleep(5)"
   ]
  },
  {
   "cell_type": "code",
   "execution_count": 23,
   "metadata": {},
   "outputs": [],
   "source": [
    "def scrape_single_review(result):\n",
    "        selectors = {\n",
    "            'body': '[data-hook=\"review-body\"]',\n",
    "        }\n",
    "        results = dict()\n",
    "        driver = start_chrome(headless=True)\n",
    "        for key, selector in selectors.items():\n",
    "            try:\n",
    "                sleep(3)\n",
    "                element = result.find_element_by_css_selector(selector)\n",
    "                results[key] = element.text\n",
    "                print('REVIEW:{}'.format(element.text))\n",
    "            except NoSuchElementException as e:\n",
    "                print('NoSuchElementException')\n",
    "\n",
    "        try:\n",
    "            results['author_url'] = result.find_element_by_css_selector('a[data-hook=\"review-author\"]').get_attribute('href')\n",
    "            results['rating'] = result.find_element_b=y_css_selector('i[data-hook=\"review-star-rating\"] span').text\n",
    "        except NoSuchElementException as e:\n",
    "            print('Cannot scrap aditional data')\n",
    "\n",
    "\n",
    "        return results"
   ]
  },
  {
   "cell_type": "code",
   "execution_count": null,
   "metadata": {},
   "outputs": [],
   "source": [
    "\n",
    "data = {\n",
    "            'reviews': [],\n",
    "        }\n",
    "\n",
    "for i, result in enumerate(all_reviews):\n",
    "    #data['reviews'].append(scrape_single_review(result))\n",
    "    for r in result:\n",
    "        print(r.text)\n",
    "        #data['reviews'].append(scrape_single_review(r))"
   ]
  },
  {
   "cell_type": "code",
   "execution_count": 7,
   "metadata": {},
   "outputs": [],
   "source": [
    "import pandas as pd\n",
    "from sklearn.model_selection import train_test_split\n",
    "import re\n",
    "import datetime\n",
    "import multiprocessing\n",
    "import pandas as pd\n",
    "import fasttext\n",
    "import numpy as np"
   ]
  },
  {
   "cell_type": "code",
   "execution_count": 8,
   "metadata": {},
   "outputs": [],
   "source": [
    "def get_sentiment(x):\n",
    "    if x > 3:\n",
    "        return 'Positive'\n",
    "    elif x < 3:\n",
    "        return 'Negative'\n",
    "    else:\n",
    "        return 'Neutral'\n",
    "\n",
    "def clean_text(x):\n",
    "    return re.sub(r\"(@[A-Za-z0–9_]+)|[^\\w\\s]|#|http\\S+\", \"\", x)\n",
    "\n",
    "def print_results(N, p, r):\n",
    "    print(\"N\\t\" + str(N))\n",
    "    print(\"P@{}\\t{:.3f}\".format(1, p))\n",
    "    print(\"R@{}\\t{:.3f}\".format(1, r))\n",
    "\n",
    "def get_X_y(df):\n",
    "    return df['reviews.text'], df['sentiment']\n"
   ]
  },
  {
   "cell_type": "code",
   "execution_count": 9,
   "metadata": {},
   "outputs": [],
   "source": [
    "gift_cards = pd.read_json('gift_cards.json', lines=True)\n"
   ]
  },
  {
   "cell_type": "code",
   "execution_count": 10,
   "metadata": {},
   "outputs": [
    {
     "data": {
      "text/html": [
       "<div>\n",
       "<style scoped>\n",
       "    .dataframe tbody tr th:only-of-type {\n",
       "        vertical-align: middle;\n",
       "    }\n",
       "\n",
       "    .dataframe tbody tr th {\n",
       "        vertical-align: top;\n",
       "    }\n",
       "\n",
       "    .dataframe thead th {\n",
       "        text-align: right;\n",
       "    }\n",
       "</style>\n",
       "<table border=\"1\" class=\"dataframe\">\n",
       "  <thead>\n",
       "    <tr style=\"text-align: right;\">\n",
       "      <th></th>\n",
       "      <th>overall</th>\n",
       "      <th>vote</th>\n",
       "      <th>verified</th>\n",
       "      <th>reviewTime</th>\n",
       "      <th>reviewerID</th>\n",
       "      <th>asin</th>\n",
       "      <th>style</th>\n",
       "      <th>reviewerName</th>\n",
       "      <th>reviewText</th>\n",
       "      <th>summary</th>\n",
       "      <th>unixReviewTime</th>\n",
       "      <th>image</th>\n",
       "    </tr>\n",
       "  </thead>\n",
       "  <tbody>\n",
       "    <tr>\n",
       "      <th>0</th>\n",
       "      <td>1</td>\n",
       "      <td>25</td>\n",
       "      <td>False</td>\n",
       "      <td>12 19, 2008</td>\n",
       "      <td>APV13CM0919JD</td>\n",
       "      <td>B001GXRQW0</td>\n",
       "      <td>{'Gift Amount:': ' 50'}</td>\n",
       "      <td>LEH</td>\n",
       "      <td>Amazon,\\nI am shopping for Amazon.com gift car...</td>\n",
       "      <td>Merry Christmas.</td>\n",
       "      <td>1229644800</td>\n",
       "      <td>NaN</td>\n",
       "    </tr>\n",
       "    <tr>\n",
       "      <th>1</th>\n",
       "      <td>5</td>\n",
       "      <td>NaN</td>\n",
       "      <td>False</td>\n",
       "      <td>12 17, 2008</td>\n",
       "      <td>A3G8U1G1V082SN</td>\n",
       "      <td>B001GXRQW0</td>\n",
       "      <td>{'Gift Amount:': ' 50'}</td>\n",
       "      <td>Tali</td>\n",
       "      <td>I got this gift card from a friend, and it was...</td>\n",
       "      <td>Gift card with best selection</td>\n",
       "      <td>1229472000</td>\n",
       "      <td>NaN</td>\n",
       "    </tr>\n",
       "    <tr>\n",
       "      <th>2</th>\n",
       "      <td>5</td>\n",
       "      <td>4</td>\n",
       "      <td>False</td>\n",
       "      <td>12 17, 2008</td>\n",
       "      <td>A11T2Q0EVTUWP</td>\n",
       "      <td>B001GXRQW0</td>\n",
       "      <td>{'Gift Amount:': ' 50'}</td>\n",
       "      <td>Z</td>\n",
       "      <td>aren't we going to save trees?! :) People who ...</td>\n",
       "      <td>A convenient and great gift for the environmen...</td>\n",
       "      <td>1229472000</td>\n",
       "      <td>NaN</td>\n",
       "    </tr>\n",
       "    <tr>\n",
       "      <th>3</th>\n",
       "      <td>5</td>\n",
       "      <td>NaN</td>\n",
       "      <td>False</td>\n",
       "      <td>12 17, 2008</td>\n",
       "      <td>A9YKGBH3SV22C</td>\n",
       "      <td>B001GXRQW0</td>\n",
       "      <td>{'Gift Amount:': ' 25'}</td>\n",
       "      <td>Giotravels</td>\n",
       "      <td>You can always get someone something from Amaz...</td>\n",
       "      <td>Totally make sense</td>\n",
       "      <td>1229472000</td>\n",
       "      <td>NaN</td>\n",
       "    </tr>\n",
       "    <tr>\n",
       "      <th>4</th>\n",
       "      <td>1</td>\n",
       "      <td>NaN</td>\n",
       "      <td>True</td>\n",
       "      <td>12 17, 2008</td>\n",
       "      <td>A34WZIHVF3OKOL</td>\n",
       "      <td>B001GXRQW0</td>\n",
       "      <td>NaN</td>\n",
       "      <td>King Dad</td>\n",
       "      <td>Why take 50 dollars of good money with no limi...</td>\n",
       "      <td>Give CASH!</td>\n",
       "      <td>1229472000</td>\n",
       "      <td>NaN</td>\n",
       "    </tr>\n",
       "    <tr>\n",
       "      <th>...</th>\n",
       "      <td>...</td>\n",
       "      <td>...</td>\n",
       "      <td>...</td>\n",
       "      <td>...</td>\n",
       "      <td>...</td>\n",
       "      <td>...</td>\n",
       "      <td>...</td>\n",
       "      <td>...</td>\n",
       "      <td>...</td>\n",
       "      <td>...</td>\n",
       "      <td>...</td>\n",
       "      <td>...</td>\n",
       "    </tr>\n",
       "    <tr>\n",
       "      <th>147189</th>\n",
       "      <td>5</td>\n",
       "      <td>NaN</td>\n",
       "      <td>True</td>\n",
       "      <td>09 15, 2018</td>\n",
       "      <td>A2K9WVQW9TLWNK</td>\n",
       "      <td>B01H5PPJT4</td>\n",
       "      <td>NaN</td>\n",
       "      <td>Mark.</td>\n",
       "      <td>I always enjoy getting these Gift cards via em...</td>\n",
       "      <td>Just always great service!!</td>\n",
       "      <td>1536969600</td>\n",
       "      <td>NaN</td>\n",
       "    </tr>\n",
       "    <tr>\n",
       "      <th>147190</th>\n",
       "      <td>4</td>\n",
       "      <td>NaN</td>\n",
       "      <td>True</td>\n",
       "      <td>09 7, 2018</td>\n",
       "      <td>A149ALSR6TPGF7</td>\n",
       "      <td>B01H5PPJT4</td>\n",
       "      <td>NaN</td>\n",
       "      <td>timothy kuta</td>\n",
       "      <td>Worked great</td>\n",
       "      <td>Good to have</td>\n",
       "      <td>1536278400</td>\n",
       "      <td>NaN</td>\n",
       "    </tr>\n",
       "    <tr>\n",
       "      <th>147191</th>\n",
       "      <td>5</td>\n",
       "      <td>NaN</td>\n",
       "      <td>True</td>\n",
       "      <td>08 29, 2018</td>\n",
       "      <td>A2Q066NZCQSCOR</td>\n",
       "      <td>B01H5PPJT4</td>\n",
       "      <td>NaN</td>\n",
       "      <td>Jess</td>\n",
       "      <td>Gift card</td>\n",
       "      <td>Gift card</td>\n",
       "      <td>1535500800</td>\n",
       "      <td>NaN</td>\n",
       "    </tr>\n",
       "    <tr>\n",
       "      <th>147192</th>\n",
       "      <td>5</td>\n",
       "      <td>NaN</td>\n",
       "      <td>True</td>\n",
       "      <td>08 18, 2018</td>\n",
       "      <td>A1KJLWCW7XBS8I</td>\n",
       "      <td>B01H5PPJT4</td>\n",
       "      <td>NaN</td>\n",
       "      <td>Average Homeowner</td>\n",
       "      <td>What is there to say, It's a gift card.</td>\n",
       "      <td>Easy to buy and give as a gift.</td>\n",
       "      <td>1534550400</td>\n",
       "      <td>NaN</td>\n",
       "    </tr>\n",
       "    <tr>\n",
       "      <th>147193</th>\n",
       "      <td>5</td>\n",
       "      <td>NaN</td>\n",
       "      <td>True</td>\n",
       "      <td>08 14, 2018</td>\n",
       "      <td>ANABUB0FRZXRM</td>\n",
       "      <td>B01H5PPJT4</td>\n",
       "      <td>NaN</td>\n",
       "      <td>Amazon Customer</td>\n",
       "      <td>No complaints, ordered it and within 5 or so m...</td>\n",
       "      <td>Gift for grandpa</td>\n",
       "      <td>1534204800</td>\n",
       "      <td>NaN</td>\n",
       "    </tr>\n",
       "  </tbody>\n",
       "</table>\n",
       "<p>147194 rows × 12 columns</p>\n",
       "</div>"
      ],
      "text/plain": [
       "        overall vote  verified   reviewTime      reviewerID        asin  \\\n",
       "0             1   25     False  12 19, 2008   APV13CM0919JD  B001GXRQW0   \n",
       "1             5  NaN     False  12 17, 2008  A3G8U1G1V082SN  B001GXRQW0   \n",
       "2             5    4     False  12 17, 2008   A11T2Q0EVTUWP  B001GXRQW0   \n",
       "3             5  NaN     False  12 17, 2008   A9YKGBH3SV22C  B001GXRQW0   \n",
       "4             1  NaN      True  12 17, 2008  A34WZIHVF3OKOL  B001GXRQW0   \n",
       "...         ...  ...       ...          ...             ...         ...   \n",
       "147189        5  NaN      True  09 15, 2018  A2K9WVQW9TLWNK  B01H5PPJT4   \n",
       "147190        4  NaN      True   09 7, 2018  A149ALSR6TPGF7  B01H5PPJT4   \n",
       "147191        5  NaN      True  08 29, 2018  A2Q066NZCQSCOR  B01H5PPJT4   \n",
       "147192        5  NaN      True  08 18, 2018  A1KJLWCW7XBS8I  B01H5PPJT4   \n",
       "147193        5  NaN      True  08 14, 2018   ANABUB0FRZXRM  B01H5PPJT4   \n",
       "\n",
       "                          style       reviewerName  \\\n",
       "0       {'Gift Amount:': ' 50'}                LEH   \n",
       "1       {'Gift Amount:': ' 50'}               Tali   \n",
       "2       {'Gift Amount:': ' 50'}                  Z   \n",
       "3       {'Gift Amount:': ' 25'}         Giotravels   \n",
       "4                           NaN           King Dad   \n",
       "...                         ...                ...   \n",
       "147189                      NaN             Mark.    \n",
       "147190                      NaN       timothy kuta   \n",
       "147191                      NaN               Jess   \n",
       "147192                      NaN  Average Homeowner   \n",
       "147193                      NaN    Amazon Customer   \n",
       "\n",
       "                                               reviewText  \\\n",
       "0       Amazon,\\nI am shopping for Amazon.com gift car...   \n",
       "1       I got this gift card from a friend, and it was...   \n",
       "2       aren't we going to save trees?! :) People who ...   \n",
       "3       You can always get someone something from Amaz...   \n",
       "4       Why take 50 dollars of good money with no limi...   \n",
       "...                                                   ...   \n",
       "147189  I always enjoy getting these Gift cards via em...   \n",
       "147190                                       Worked great   \n",
       "147191                                          Gift card   \n",
       "147192            What is there to say, It's a gift card.   \n",
       "147193  No complaints, ordered it and within 5 or so m...   \n",
       "\n",
       "                                                  summary  unixReviewTime  \\\n",
       "0                                        Merry Christmas.      1229644800   \n",
       "1                           Gift card with best selection      1229472000   \n",
       "2       A convenient and great gift for the environmen...      1229472000   \n",
       "3                                      Totally make sense      1229472000   \n",
       "4                                              Give CASH!      1229472000   \n",
       "...                                                   ...             ...   \n",
       "147189                        Just always great service!!      1536969600   \n",
       "147190                                       Good to have      1536278400   \n",
       "147191                                          Gift card      1535500800   \n",
       "147192                    Easy to buy and give as a gift.      1534550400   \n",
       "147193                                   Gift for grandpa      1534204800   \n",
       "\n",
       "       image  \n",
       "0        NaN  \n",
       "1        NaN  \n",
       "2        NaN  \n",
       "3        NaN  \n",
       "4        NaN  \n",
       "...      ...  \n",
       "147189   NaN  \n",
       "147190   NaN  \n",
       "147191   NaN  \n",
       "147192   NaN  \n",
       "147193   NaN  \n",
       "\n",
       "[147194 rows x 12 columns]"
      ]
     },
     "execution_count": 10,
     "metadata": {},
     "output_type": "execute_result"
    }
   ],
   "source": [
    "gift_cards"
   ]
  },
  {
   "cell_type": "code",
   "execution_count": 11,
   "metadata": {},
   "outputs": [
    {
     "data": {
      "text/html": [
       "<div>\n",
       "<style scoped>\n",
       "    .dataframe tbody tr th:only-of-type {\n",
       "        vertical-align: middle;\n",
       "    }\n",
       "\n",
       "    .dataframe tbody tr th {\n",
       "        vertical-align: top;\n",
       "    }\n",
       "\n",
       "    .dataframe thead th {\n",
       "        text-align: right;\n",
       "    }\n",
       "</style>\n",
       "<table border=\"1\" class=\"dataframe\">\n",
       "  <thead>\n",
       "    <tr style=\"text-align: right;\">\n",
       "      <th></th>\n",
       "      <th>overall</th>\n",
       "      <th>reviewText</th>\n",
       "    </tr>\n",
       "  </thead>\n",
       "  <tbody>\n",
       "    <tr>\n",
       "      <th>0</th>\n",
       "      <td>1</td>\n",
       "      <td>Amazon,\\nI am shopping for Amazon.com gift car...</td>\n",
       "    </tr>\n",
       "    <tr>\n",
       "      <th>1</th>\n",
       "      <td>5</td>\n",
       "      <td>I got this gift card from a friend, and it was...</td>\n",
       "    </tr>\n",
       "    <tr>\n",
       "      <th>2</th>\n",
       "      <td>5</td>\n",
       "      <td>aren't we going to save trees?! :) People who ...</td>\n",
       "    </tr>\n",
       "    <tr>\n",
       "      <th>3</th>\n",
       "      <td>5</td>\n",
       "      <td>You can always get someone something from Amaz...</td>\n",
       "    </tr>\n",
       "    <tr>\n",
       "      <th>4</th>\n",
       "      <td>1</td>\n",
       "      <td>Why take 50 dollars of good money with no limi...</td>\n",
       "    </tr>\n",
       "  </tbody>\n",
       "</table>\n",
       "</div>"
      ],
      "text/plain": [
       "   overall                                         reviewText\n",
       "0        1  Amazon,\\nI am shopping for Amazon.com gift car...\n",
       "1        5  I got this gift card from a friend, and it was...\n",
       "2        5  aren't we going to save trees?! :) People who ...\n",
       "3        5  You can always get someone something from Amaz...\n",
       "4        1  Why take 50 dollars of good money with no limi..."
      ]
     },
     "execution_count": 11,
     "metadata": {},
     "output_type": "execute_result"
    }
   ],
   "source": [
    "gift_cards = gift_cards[['overall', 'reviewText']]\n",
    "gift_cards.head()"
   ]
  },
  {
   "cell_type": "code",
   "execution_count": 12,
   "metadata": {},
   "outputs": [
    {
     "name": "stderr",
     "output_type": "stream",
     "text": [
      "C:\\Users\\Dani\\Anaconda3\\envs\\myenv\\lib\\site-packages\\ipykernel_launcher.py:1: SettingWithCopyWarning: \n",
      "A value is trying to be set on a copy of a slice from a DataFrame\n",
      "\n",
      "See the caveats in the documentation: https://pandas.pydata.org/pandas-docs/stable/user_guide/indexing.html#returning-a-view-versus-a-copy\n",
      "  \"\"\"Entry point for launching an IPython kernel.\n"
     ]
    }
   ],
   "source": [
    "gift_cards.dropna(axis=0, inplace=True)\n"
   ]
  },
  {
   "cell_type": "code",
   "execution_count": 13,
   "metadata": {},
   "outputs": [
    {
     "name": "stderr",
     "output_type": "stream",
     "text": [
      "C:\\Users\\Dani\\Anaconda3\\envs\\myenv\\lib\\site-packages\\ipykernel_launcher.py:1: SettingWithCopyWarning: \n",
      "A value is trying to be set on a copy of a slice from a DataFrame.\n",
      "Try using .loc[row_indexer,col_indexer] = value instead\n",
      "\n",
      "See the caveats in the documentation: https://pandas.pydata.org/pandas-docs/stable/user_guide/indexing.html#returning-a-view-versus-a-copy\n",
      "  \"\"\"Entry point for launching an IPython kernel.\n",
      "C:\\Users\\Dani\\Anaconda3\\envs\\myenv\\lib\\site-packages\\ipykernel_launcher.py:2: SettingWithCopyWarning: \n",
      "A value is trying to be set on a copy of a slice from a DataFrame.\n",
      "Try using .loc[row_indexer,col_indexer] = value instead\n",
      "\n",
      "See the caveats in the documentation: https://pandas.pydata.org/pandas-docs/stable/user_guide/indexing.html#returning-a-view-versus-a-copy\n",
      "  \n"
     ]
    }
   ],
   "source": [
    "gift_cards['reviewText'] = gift_cards['reviewText'].apply(lambda x:clean_text(x))\n",
    "gift_cards['sentiment'] = gift_cards['overall'].apply(lambda x:get_sentiment(x))"
   ]
  },
  {
   "cell_type": "code",
   "execution_count": 14,
   "metadata": {},
   "outputs": [],
   "source": [
    "X = gift_cards['reviewText']\n",
    "y = gift_cards['sentiment']\n",
    "\n",
    "X_train, X_test, y_train, y_test = train_test_split(X, y,stratify=y,test_size=0.2)"
   ]
  },
  {
   "cell_type": "code",
   "execution_count": 17,
   "metadata": {},
   "outputs": [
    {
     "data": {
      "text/plain": [
       "100647    simple to purchase and send to the receiver gr...\n",
       "106300    Great way to order gift cards for Nieces who l...\n",
       "13319     Gift card was easy to give and appreciated by ...\n",
       "21406                                       Its a gift card\n",
       "86538     Easy delivery nicely themed gift card recipien...\n",
       "                                ...                        \n",
       "27972                               Quick  Easy gift giving\n",
       "58647     Always popular with my grandchildren My grandd...\n",
       "5352      Arrived in time and its a gift cardso hopefull...\n",
       "66589     So convinience for use every time stop by Star...\n",
       "63832     I bought this for my mom birthday She really l...\n",
       "Name: reviewText, Length: 29407, dtype: object"
      ]
     },
     "execution_count": 17,
     "metadata": {},
     "output_type": "execute_result"
    }
   ],
   "source": [
    "X_test"
   ]
  },
  {
   "cell_type": "code",
   "execution_count": 22,
   "metadata": {},
   "outputs": [],
   "source": [
    "with open(\"./test\", \"w\") as f_test:\n",
    "    for X_test_f, y_test_f in zip(X_test, y_test):\n",
    "        line = \"__label__\" + str(y_test_f) + \"\\t\" + str(X_test_f) + \"\\n\"\n",
    "        try:\n",
    "            f_test.write(line)\n",
    "        except:\n",
    "            print(line)\n",
    "            break"
   ]
  },
  {
   "cell_type": "code",
   "execution_count": 23,
   "metadata": {},
   "outputs": [],
   "source": [
    "with open(\"./train\", \"w\") as f_train:\n",
    "    for X_train_f, y_train_f in zip(X_train, y_train):\n",
    "        line = \"__label__\" + str(y_train_f) + \"\\t\" + str(X_train_f) + \"\\n\"\n",
    "        try:\n",
    "            f_train.write(line)\n",
    "        except:\n",
    "            print(line)\n",
    "            break"
   ]
  },
  {
   "cell_type": "code",
   "execution_count": 24,
   "metadata": {},
   "outputs": [],
   "source": [
    "model = fasttext.train_supervised(input=\"./train.txt\")"
   ]
  },
  {
   "cell_type": "code",
   "execution_count": 25,
   "metadata": {},
   "outputs": [],
   "source": [
    "model.save_model('gift_model.bin')"
   ]
  },
  {
   "cell_type": "code",
   "execution_count": 27,
   "metadata": {},
   "outputs": [
    {
     "name": "stdout",
     "output_type": "stream",
     "text": [
      "N\t29407\n",
      "P@1\t0.950\n",
      "R@1\t0.950\n"
     ]
    }
   ],
   "source": [
    "results = model.test(\"./test\")\n",
    "print_results(*results)"
   ]
  },
  {
   "cell_type": "code",
   "execution_count": 31,
   "metadata": {},
   "outputs": [
    {
     "name": "stdout",
     "output_type": "stream",
     "text": [
      "N\t29407\n",
      "P@1\t0.951\n",
      "R@1\t0.951\n"
     ]
    }
   ],
   "source": [
    "model = fasttext.train_supervised(input=\"./train\", lr=0.1, epoch=25, wordNgrams=2, bucket=200000, dim=50, loss='ova')\n",
    "results = model.test(\"./test\")\n",
    "print_results(*results)"
   ]
  }
 ],
 "metadata": {
  "interpreter": {
   "hash": "eb5fbe524f541e028075ae0fb824c1451f8d8a30e94b71df2b8753d20b59e3d4"
  },
  "kernelspec": {
   "display_name": "Python 3.7.7 64-bit ('myenv': conda)",
   "name": "python3"
  },
  "language_info": {
   "codemirror_mode": {
    "name": "ipython",
    "version": 3
   },
   "file_extension": ".py",
   "mimetype": "text/x-python",
   "name": "python",
   "nbconvert_exporter": "python",
   "pygments_lexer": "ipython3",
   "version": "3.7.7"
  },
  "orig_nbformat": 4
 },
 "nbformat": 4,
 "nbformat_minor": 2
}
